{
 "cells": [
  {
   "cell_type": "code",
   "execution_count": 2,
   "metadata": {},
   "outputs": [],
   "source": [
    "import numpy as np"
   ]
  },
  {
   "cell_type": "markdown",
   "metadata": {},
   "source": [
    "# Create"
   ]
  },
  {
   "cell_type": "code",
   "execution_count": 21,
   "metadata": {},
   "outputs": [],
   "source": [
    "data = np.random.rand(2,3,4)\n",
    "zeroes = np.zeros((2,2,2))\n",
    "full = np.full((2,2,2), 9)\n",
    "ones = np.ones((2,2,2))"
   ]
  },
  {
   "cell_type": "code",
   "execution_count": 22,
   "metadata": {},
   "outputs": [
    {
     "data": {
      "text/plain": [
       "array([[[0.45785105, 0.12573722, 0.54063721, 0.31894432],\n",
       "        [0.58383146, 0.69046972, 0.77125388, 0.61034688],\n",
       "        [0.7954932 , 0.99371231, 0.55203514, 0.40720616]],\n",
       "\n",
       "       [[0.84239347, 0.23849668, 0.17056157, 0.31596698],\n",
       "        [0.20062308, 0.17815197, 0.52443281, 0.65361557],\n",
       "        [0.59931423, 0.0587008 , 0.1299508 , 0.33171783]]])"
      ]
     },
     "execution_count": 22,
     "metadata": {},
     "output_type": "execute_result"
    }
   ],
   "source": [
    "data"
   ]
  },
  {
   "cell_type": "code",
   "execution_count": 23,
   "metadata": {},
   "outputs": [
    {
     "data": {
      "text/plain": [
       "array([[[0., 0.],\n",
       "        [0., 0.]],\n",
       "\n",
       "       [[0., 0.],\n",
       "        [0., 0.]]])"
      ]
     },
     "execution_count": 23,
     "metadata": {},
     "output_type": "execute_result"
    }
   ],
   "source": [
    "zeroes"
   ]
  },
  {
   "cell_type": "code",
   "execution_count": 24,
   "metadata": {},
   "outputs": [
    {
     "data": {
      "text/plain": [
       "array([[[9, 9],\n",
       "        [9, 9]],\n",
       "\n",
       "       [[9, 9],\n",
       "        [9, 9]]])"
      ]
     },
     "execution_count": 24,
     "metadata": {},
     "output_type": "execute_result"
    }
   ],
   "source": [
    "full"
   ]
  },
  {
   "cell_type": "code",
   "execution_count": 25,
   "metadata": {},
   "outputs": [
    {
     "data": {
      "text/plain": [
       "array([[[1., 1.],\n",
       "        [1., 1.]],\n",
       "\n",
       "       [[1., 1.],\n",
       "        [1., 1.]]])"
      ]
     },
     "execution_count": 25,
     "metadata": {},
     "output_type": "execute_result"
    }
   ],
   "source": [
    "ones"
   ]
  },
  {
   "cell_type": "code",
   "execution_count": 26,
   "metadata": {},
   "outputs": [],
   "source": [
    "arr = np.array([[1,2,3,4],[1,2,3,4]])"
   ]
  },
  {
   "cell_type": "code",
   "execution_count": 27,
   "metadata": {},
   "outputs": [
    {
     "data": {
      "text/plain": [
       "array([[1, 2, 3, 4],\n",
       "       [1, 2, 3, 4]])"
      ]
     },
     "execution_count": 27,
     "metadata": {},
     "output_type": "execute_result"
    }
   ],
   "source": [
    "arr"
   ]
  },
  {
   "cell_type": "code",
   "execution_count": 28,
   "metadata": {},
   "outputs": [
    {
     "data": {
      "text/plain": [
       "numpy.ndarray"
      ]
     },
     "execution_count": 28,
     "metadata": {},
     "output_type": "execute_result"
    }
   ],
   "source": [
    "type(arr)"
   ]
  },
  {
   "cell_type": "code",
   "execution_count": null,
   "metadata": {},
   "outputs": [],
   "source": []
  },
  {
   "cell_type": "markdown",
   "metadata": {},
   "source": [
    "#  Read"
   ]
  },
  {
   "cell_type": "code",
   "execution_count": 29,
   "metadata": {},
   "outputs": [],
   "source": [
    "# Attributes\n",
    "shape = data.shape\n",
    "size = data.size\n",
    "types = data.dtype"
   ]
  },
  {
   "cell_type": "code",
   "execution_count": 30,
   "metadata": {},
   "outputs": [
    {
     "data": {
      "text/plain": [
       "dtype('float64')"
      ]
     },
     "execution_count": 30,
     "metadata": {},
     "output_type": "execute_result"
    }
   ],
   "source": [
    "types"
   ]
  },
  {
   "cell_type": "code",
   "execution_count": 31,
   "metadata": {},
   "outputs": [
    {
     "data": {
      "text/plain": [
       "(2, 3, 4)"
      ]
     },
     "execution_count": 31,
     "metadata": {},
     "output_type": "execute_result"
    }
   ],
   "source": [
    "shape"
   ]
  },
  {
   "cell_type": "code",
   "execution_count": 33,
   "metadata": {},
   "outputs": [
    {
     "data": {
      "text/plain": [
       "24"
      ]
     },
     "execution_count": 33,
     "metadata": {},
     "output_type": "execute_result"
    }
   ],
   "source": [
    "size   #2*3*4"
   ]
  },
  {
   "cell_type": "code",
   "execution_count": 36,
   "metadata": {},
   "outputs": [
    {
     "data": {
      "text/plain": [
       "array([[[0.45785105, 0.12573722, 0.54063721, 0.31894432],\n",
       "        [0.58383146, 0.69046972, 0.77125388, 0.61034688],\n",
       "        [0.7954932 , 0.99371231, 0.55203514, 0.40720616]],\n",
       "\n",
       "       [[0.84239347, 0.23849668, 0.17056157, 0.31596698],\n",
       "        [0.20062308, 0.17815197, 0.52443281, 0.65361557],\n",
       "        [0.59931423, 0.0587008 , 0.1299508 , 0.33171783]]])"
      ]
     },
     "execution_count": 36,
     "metadata": {},
     "output_type": "execute_result"
    }
   ],
   "source": [
    "data"
   ]
  },
  {
   "cell_type": "code",
   "execution_count": 44,
   "metadata": {},
   "outputs": [],
   "source": [
    "# Slicing\n",
    "ar = data[0]\n",
    "slicer = data[0][0:2]\n",
    "reverse = data[-1]\n",
    "\n",
    "#suppose we want to access second value of first row from second array which is 0.23849668\n",
    "singleval = data[1][0][1]"
   ]
  },
  {
   "cell_type": "code",
   "execution_count": 53,
   "metadata": {},
   "outputs": [
    {
     "data": {
      "text/plain": [
       "array([[[0.45785105, 0.12573722, 0.54063721, 0.31894432],\n",
       "        [0.58383146, 0.69046972, 0.77125388, 0.61034688],\n",
       "        [0.7954932 , 0.99371231, 0.55203514, 0.40720616]],\n",
       "\n",
       "       [[0.84239347, 0.23849668, 0.17056157, 0.31596698],\n",
       "        [0.20062308, 0.17815197, 0.52443281, 0.65361557],\n",
       "        [0.59931423, 0.0587008 , 0.1299508 , 0.33171783]]])"
      ]
     },
     "execution_count": 53,
     "metadata": {},
     "output_type": "execute_result"
    }
   ],
   "source": [
    "data"
   ]
  },
  {
   "cell_type": "code",
   "execution_count": 45,
   "metadata": {},
   "outputs": [
    {
     "data": {
      "text/plain": [
       "array([[0.45785105, 0.12573722, 0.54063721, 0.31894432],\n",
       "       [0.58383146, 0.69046972, 0.77125388, 0.61034688],\n",
       "       [0.7954932 , 0.99371231, 0.55203514, 0.40720616]])"
      ]
     },
     "execution_count": 45,
     "metadata": {},
     "output_type": "execute_result"
    }
   ],
   "source": [
    "ar"
   ]
  },
  {
   "cell_type": "code",
   "execution_count": 46,
   "metadata": {},
   "outputs": [
    {
     "data": {
      "text/plain": [
       "array([[0.45785105, 0.12573722, 0.54063721, 0.31894432],\n",
       "       [0.58383146, 0.69046972, 0.77125388, 0.61034688]])"
      ]
     },
     "execution_count": 46,
     "metadata": {},
     "output_type": "execute_result"
    }
   ],
   "source": [
    "slicer #first two rows of index 0"
   ]
  },
  {
   "cell_type": "code",
   "execution_count": 47,
   "metadata": {},
   "outputs": [
    {
     "data": {
      "text/plain": [
       "array([[0.84239347, 0.23849668, 0.17056157, 0.31596698],\n",
       "       [0.20062308, 0.17815197, 0.52443281, 0.65361557],\n",
       "       [0.59931423, 0.0587008 , 0.1299508 , 0.33171783]])"
      ]
     },
     "execution_count": 47,
     "metadata": {},
     "output_type": "execute_result"
    }
   ],
   "source": [
    "reverse  # will read the last index"
   ]
  },
  {
   "cell_type": "code",
   "execution_count": 62,
   "metadata": {},
   "outputs": [
    {
     "data": {
      "text/plain": [
       "0.23849668"
      ]
     },
     "execution_count": 62,
     "metadata": {},
     "output_type": "execute_result"
    }
   ],
   "source": [
    "singleval.round(8) # Accessing upto 8th digit after fraction"
   ]
  },
  {
   "cell_type": "markdown",
   "metadata": {},
   "source": [
    "# Update"
   ]
  },
  {
   "cell_type": "code",
   "execution_count": 72,
   "metadata": {},
   "outputs": [],
   "source": [
    "list1 = np.random.rand(10) \n",
    "list2 = np.random.rand(10) "
   ]
  },
  {
   "cell_type": "code",
   "execution_count": 73,
   "metadata": {},
   "outputs": [
    {
     "data": {
      "text/plain": [
       "array([0.70011664, 0.06199912, 0.9843525 , 0.52252817, 0.28528306,\n",
       "       0.03052266, 0.35260594, 0.37932843, 0.81496216, 0.48014658])"
      ]
     },
     "execution_count": 73,
     "metadata": {},
     "output_type": "execute_result"
    }
   ],
   "source": [
    "list1"
   ]
  },
  {
   "cell_type": "code",
   "execution_count": 74,
   "metadata": {},
   "outputs": [
    {
     "data": {
      "text/plain": [
       "array([0.53596592, 0.56206217, 0.07851537, 0.06381286, 0.5148425 ,\n",
       "       0.31213905, 0.13248904, 0.71804371, 0.22399146, 0.62906064])"
      ]
     },
     "execution_count": 74,
     "metadata": {},
     "output_type": "execute_result"
    }
   ],
   "source": [
    "list2"
   ]
  },
  {
   "cell_type": "code",
   "execution_count": 75,
   "metadata": {},
   "outputs": [],
   "source": [
    "# Basic Math\n",
    "add = np.add(list1, list2)\n",
    "sub = np.subtract(list1, list2)\n",
    "div = np.divide(list1, list2)\n",
    "mult = np.multiply(list1, list2)\n",
    "dot = np.dot(list1, list2)"
   ]
  },
  {
   "cell_type": "code",
   "execution_count": 76,
   "metadata": {},
   "outputs": [
    {
     "data": {
      "text/plain": [
       "array([1.23608256, 0.62406129, 1.06286788, 0.58634103, 0.80012556,\n",
       "       0.34266171, 0.48509498, 1.09737214, 1.03895362, 1.10920722])"
      ]
     },
     "execution_count": 76,
     "metadata": {},
     "output_type": "execute_result"
    }
   ],
   "source": [
    "add"
   ]
  },
  {
   "cell_type": "code",
   "execution_count": 77,
   "metadata": {},
   "outputs": [
    {
     "data": {
      "text/plain": [
       "0.0422105730179874"
      ]
     },
     "execution_count": 77,
     "metadata": {},
     "output_type": "execute_result"
    }
   ],
   "source": [
    "0.21693594*0.19457621"
   ]
  },
  {
   "cell_type": "code",
   "execution_count": 78,
   "metadata": {},
   "outputs": [
    {
     "data": {
      "text/plain": [
       "array([0.37523866, 0.03484736, 0.0772868 , 0.03334402, 0.14687584,\n",
       "       0.00952731, 0.04671642, 0.27237439, 0.18254456, 0.30204132])"
      ]
     },
     "execution_count": 78,
     "metadata": {},
     "output_type": "execute_result"
    }
   ],
   "source": [
    "mult"
   ]
  },
  {
   "cell_type": "code",
   "execution_count": 79,
   "metadata": {},
   "outputs": [
    {
     "data": {
      "text/plain": [
       "1.4807966913757489"
      ]
     },
     "execution_count": 79,
     "metadata": {},
     "output_type": "execute_result"
    }
   ],
   "source": [
    "dot"
   ]
  },
  {
   "cell_type": "code",
   "execution_count": 80,
   "metadata": {},
   "outputs": [],
   "source": [
    "# Stat Functions\n",
    "sqrt = np.sqrt(25)\n",
    "ab = np.abs(-2)\n",
    "power = np.power(2,7)\n",
    "log = np.log(25)\n",
    "exp = np.exp([2,3])\n",
    "mins = np.min(list1)\n",
    "maxs = np.max(list1)"
   ]
  },
  {
   "cell_type": "code",
   "execution_count": 86,
   "metadata": {},
   "outputs": [
    {
     "data": {
      "text/plain": [
       "(5.0, 2, 128, 3.2188758248682006)"
      ]
     },
     "execution_count": 86,
     "metadata": {},
     "output_type": "execute_result"
    }
   ],
   "source": [
    "sqrt, ab, power, log #showing all values in one line"
   ]
  },
  {
   "cell_type": "code",
   "execution_count": 87,
   "metadata": {},
   "outputs": [
    {
     "data": {
      "text/plain": [
       "array([ 7.3890561 , 20.08553692])"
      ]
     },
     "execution_count": 87,
     "metadata": {},
     "output_type": "execute_result"
    }
   ],
   "source": [
    "exp"
   ]
  },
  {
   "cell_type": "code",
   "execution_count": 89,
   "metadata": {},
   "outputs": [
    {
     "data": {
      "text/plain": [
       "(0.030522661439621235, 0.984352503999428)"
      ]
     },
     "execution_count": 89,
     "metadata": {},
     "output_type": "execute_result"
    }
   ],
   "source": [
    "mins,maxs"
   ]
  },
  {
   "cell_type": "code",
   "execution_count": null,
   "metadata": {},
   "outputs": [],
   "source": []
  },
  {
   "cell_type": "code",
   "execution_count": 56,
   "metadata": {},
   "outputs": [
    {
     "data": {
      "text/plain": [
       "0.9300368518784375"
      ]
     },
     "execution_count": 56,
     "metadata": {},
     "output_type": "execute_result"
    }
   ],
   "source": [
    "maxs"
   ]
  },
  {
   "cell_type": "code",
   "execution_count": 90,
   "metadata": {},
   "outputs": [
    {
     "data": {
      "text/plain": [
       "array([[[0.45785105, 0.12573722, 0.54063721, 0.31894432],\n",
       "        [0.58383146, 0.69046972, 0.77125388, 0.61034688],\n",
       "        [0.7954932 , 0.99371231, 0.55203514, 0.40720616]],\n",
       "\n",
       "       [[0.84239347, 0.23849668, 0.17056157, 0.31596698],\n",
       "        [0.20062308, 0.17815197, 0.52443281, 0.65361557],\n",
       "        [0.59931423, 0.0587008 , 0.1299508 , 0.33171783]]])"
      ]
     },
     "execution_count": 90,
     "metadata": {},
     "output_type": "execute_result"
    }
   ],
   "source": [
    "data"
   ]
  },
  {
   "cell_type": "code",
   "execution_count": 91,
   "metadata": {},
   "outputs": [],
   "source": [
    "data[0][0][0] = 700"
   ]
  },
  {
   "cell_type": "code",
   "execution_count": 92,
   "metadata": {},
   "outputs": [
    {
     "data": {
      "text/plain": [
       "array([[[7.00000000e+02, 1.25737221e-01, 5.40637206e-01, 3.18944315e-01],\n",
       "        [5.83831456e-01, 6.90469725e-01, 7.71253877e-01, 6.10346880e-01],\n",
       "        [7.95493204e-01, 9.93712309e-01, 5.52035137e-01, 4.07206156e-01]],\n",
       "\n",
       "       [[8.42393468e-01, 2.38496678e-01, 1.70561566e-01, 3.15966981e-01],\n",
       "        [2.00623085e-01, 1.78151965e-01, 5.24432811e-01, 6.53615565e-01],\n",
       "        [5.99314229e-01, 5.87007955e-02, 1.29950805e-01, 3.31717831e-01]]])"
      ]
     },
     "execution_count": 92,
     "metadata": {},
     "output_type": "execute_result"
    }
   ],
   "source": [
    "data"
   ]
  },
  {
   "cell_type": "code",
   "execution_count": 96,
   "metadata": {},
   "outputs": [
    {
     "data": {
      "text/plain": [
       "array([[[1.25737221e-01, 3.18944315e-01, 5.40637206e-01, 7.00000000e+02],\n",
       "        [5.83831456e-01, 6.10346880e-01, 6.90469725e-01, 7.71253877e-01],\n",
       "        [4.07206156e-01, 5.52035137e-01, 7.95493204e-01, 9.93712309e-01]],\n",
       "\n",
       "       [[1.70561566e-01, 2.38496678e-01, 3.15966981e-01, 8.42393468e-01],\n",
       "        [1.78151965e-01, 2.00623085e-01, 5.24432811e-01, 6.53615565e-01],\n",
       "        [5.87007955e-02, 1.29950805e-01, 3.31717831e-01, 5.99314229e-01]]])"
      ]
     },
     "execution_count": 96,
     "metadata": {},
     "output_type": "execute_result"
    }
   ],
   "source": [
    "data.sort()\n",
    "data"
   ]
  },
  {
   "cell_type": "code",
   "execution_count": 98,
   "metadata": {},
   "outputs": [
    {
     "name": "stdout",
     "output_type": "stream",
     "text": [
      "(2, 3, 4)\n"
     ]
    }
   ],
   "source": [
    "print(data.shape)"
   ]
  },
  {
   "cell_type": "code",
   "execution_count": 102,
   "metadata": {},
   "outputs": [
    {
     "data": {
      "text/plain": [
       "(3, 4, 2)"
      ]
     },
     "execution_count": 102,
     "metadata": {},
     "output_type": "execute_result"
    }
   ],
   "source": [
    "data = data.reshape((3,4,2))\n",
    "data.shape"
   ]
  },
  {
   "cell_type": "code",
   "execution_count": 103,
   "metadata": {},
   "outputs": [
    {
     "data": {
      "text/plain": [
       "array([[[1.25737221e-01, 3.18944315e-01],\n",
       "        [5.40637206e-01, 7.00000000e+02],\n",
       "        [5.83831456e-01, 6.10346880e-01],\n",
       "        [6.90469725e-01, 7.71253877e-01]],\n",
       "\n",
       "       [[4.07206156e-01, 5.52035137e-01],\n",
       "        [7.95493204e-01, 9.93712309e-01],\n",
       "        [1.70561566e-01, 2.38496678e-01],\n",
       "        [3.15966981e-01, 8.42393468e-01]],\n",
       "\n",
       "       [[1.78151965e-01, 2.00623085e-01],\n",
       "        [5.24432811e-01, 6.53615565e-01],\n",
       "        [5.87007955e-02, 1.29950805e-01],\n",
       "        [3.31717831e-01, 5.99314229e-01]]])"
      ]
     },
     "execution_count": 103,
     "metadata": {},
     "output_type": "execute_result"
    }
   ],
   "source": [
    "data"
   ]
  },
  {
   "cell_type": "code",
   "execution_count": null,
   "metadata": {},
   "outputs": [],
   "source": []
  },
  {
   "cell_type": "code",
   "execution_count": 106,
   "metadata": {},
   "outputs": [
    {
     "name": "stdout",
     "output_type": "stream",
     "text": [
      "[0. 0. 0. 0. 0. 0.]\n",
      "[0. 0. 0. 0. 0. 0. 2. 4.]\n"
     ]
    }
   ],
   "source": [
    "zeroes = np.zeros((6))\n",
    "print(zeroes)\n",
    "zeroes = np.append(zeroes, [2,4])\n",
    "print(zeroes)"
   ]
  },
  {
   "cell_type": "code",
   "execution_count": 108,
   "metadata": {},
   "outputs": [
    {
     "name": "stdout",
     "output_type": "stream",
     "text": [
      "[0. 0. 0. 1. 1. 0. 0. 0. 2. 4.]\n"
     ]
    }
   ],
   "source": [
    "zeroes = np.insert(zeroes, 3, 1)\n",
    "print(zeroes)"
   ]
  },
  {
   "cell_type": "markdown",
   "metadata": {},
   "source": [
    "# Delete"
   ]
  },
  {
   "cell_type": "code",
   "execution_count": 109,
   "metadata": {},
   "outputs": [
    {
     "data": {
      "text/plain": [
       "array([[[1.25737221e-01, 3.18944315e-01],\n",
       "        [5.40637206e-01, 7.00000000e+02],\n",
       "        [5.83831456e-01, 6.10346880e-01],\n",
       "        [6.90469725e-01, 7.71253877e-01]],\n",
       "\n",
       "       [[4.07206156e-01, 5.52035137e-01],\n",
       "        [7.95493204e-01, 9.93712309e-01],\n",
       "        [1.70561566e-01, 2.38496678e-01],\n",
       "        [3.15966981e-01, 8.42393468e-01]],\n",
       "\n",
       "       [[1.78151965e-01, 2.00623085e-01],\n",
       "        [5.24432811e-01, 6.53615565e-01],\n",
       "        [5.87007955e-02, 1.29950805e-01],\n",
       "        [3.31717831e-01, 5.99314229e-01]]])"
      ]
     },
     "execution_count": 109,
     "metadata": {},
     "output_type": "execute_result"
    }
   ],
   "source": [
    "data"
   ]
  },
  {
   "cell_type": "code",
   "execution_count": 112,
   "metadata": {},
   "outputs": [
    {
     "data": {
      "text/plain": [
       "array([[[5.40637206e-01, 7.00000000e+02],\n",
       "        [5.83831456e-01, 6.10346880e-01],\n",
       "        [6.90469725e-01, 7.71253877e-01]],\n",
       "\n",
       "       [[7.95493204e-01, 9.93712309e-01],\n",
       "        [1.70561566e-01, 2.38496678e-01],\n",
       "        [3.15966981e-01, 8.42393468e-01]],\n",
       "\n",
       "       [[5.24432811e-01, 6.53615565e-01],\n",
       "        [5.87007955e-02, 1.29950805e-01],\n",
       "        [3.31717831e-01, 5.99314229e-01]]])"
      ]
     },
     "execution_count": 112,
     "metadata": {},
     "output_type": "execute_result"
    }
   ],
   "source": [
    "np.delete(data, 0, axis=1)"
   ]
  },
  {
   "cell_type": "code",
   "execution_count": 113,
   "metadata": {},
   "outputs": [
    {
     "data": {
      "text/plain": [
       "array([[[1.25737221e-01, 3.18944315e-01],\n",
       "        [5.40637206e-01, 7.00000000e+02],\n",
       "        [5.83831456e-01, 6.10346880e-01],\n",
       "        [6.90469725e-01, 7.71253877e-01]],\n",
       "\n",
       "       [[1.78151965e-01, 2.00623085e-01],\n",
       "        [5.24432811e-01, 6.53615565e-01],\n",
       "        [5.87007955e-02, 1.29950805e-01],\n",
       "        [3.31717831e-01, 5.99314229e-01]]])"
      ]
     },
     "execution_count": 113,
     "metadata": {},
     "output_type": "execute_result"
    }
   ],
   "source": [
    "np.delete(data, 1, axis=0)"
   ]
  },
  {
   "cell_type": "code",
   "execution_count": 114,
   "metadata": {},
   "outputs": [],
   "source": [
    "np.save(\"Sample Array\", data)"
   ]
  },
  {
   "cell_type": "code",
   "execution_count": 115,
   "metadata": {},
   "outputs": [],
   "source": [
    "test = np.load(\"Sample Array.npy\")"
   ]
  },
  {
   "cell_type": "code",
   "execution_count": 116,
   "metadata": {},
   "outputs": [
    {
     "data": {
      "text/plain": [
       "array([[[1.25737221e-01, 3.18944315e-01],\n",
       "        [5.40637206e-01, 7.00000000e+02],\n",
       "        [5.83831456e-01, 6.10346880e-01],\n",
       "        [6.90469725e-01, 7.71253877e-01]],\n",
       "\n",
       "       [[4.07206156e-01, 5.52035137e-01],\n",
       "        [7.95493204e-01, 9.93712309e-01],\n",
       "        [1.70561566e-01, 2.38496678e-01],\n",
       "        [3.15966981e-01, 8.42393468e-01]],\n",
       "\n",
       "       [[1.78151965e-01, 2.00623085e-01],\n",
       "        [5.24432811e-01, 6.53615565e-01],\n",
       "        [5.87007955e-02, 1.29950805e-01],\n",
       "        [3.31717831e-01, 5.99314229e-01]]])"
      ]
     },
     "execution_count": 116,
     "metadata": {},
     "output_type": "execute_result"
    }
   ],
   "source": [
    "test"
   ]
  },
  {
   "cell_type": "code",
   "execution_count": null,
   "metadata": {},
   "outputs": [],
   "source": []
  }
 ],
 "metadata": {
  "kernelspec": {
   "display_name": "Python 3",
   "language": "python",
   "name": "python3"
  },
  "language_info": {
   "codemirror_mode": {
    "name": "ipython",
    "version": 3
   },
   "file_extension": ".py",
   "mimetype": "text/x-python",
   "name": "python",
   "nbconvert_exporter": "python",
   "pygments_lexer": "ipython3",
   "version": "3.5.4"
  }
 },
 "nbformat": 4,
 "nbformat_minor": 2
}
